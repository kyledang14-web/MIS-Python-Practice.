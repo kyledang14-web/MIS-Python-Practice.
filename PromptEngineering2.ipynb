{
  "nbformat": 4,
  "nbformat_minor": 0,
  "metadata": {
    "colab": {
      "provenance": [],
      "authorship_tag": "ABX9TyP/C3awNVrR0OXysNjhq6/h",
      "include_colab_link": true
    },
    "kernelspec": {
      "name": "python3",
      "display_name": "Python 3"
    },
    "language_info": {
      "name": "python"
    }
  },
  "cells": [
    {
      "cell_type": "markdown",
      "metadata": {
        "id": "view-in-github",
        "colab_type": "text"
      },
      "source": [
        "<a href=\"https://colab.research.google.com/github/kyledang14-web/MIS-Python-Practice./blob/main/PromptEngineering2.ipynb\" target=\"_parent\"><img src=\"https://colab.research.google.com/assets/colab-badge.svg\" alt=\"Open In Colab\"/></a>"
      ]
    },
    {
      "cell_type": "code",
      "execution_count": 1,
      "metadata": {
        "colab": {
          "base_uri": "https://localhost:8080/"
        },
        "id": "VToY9R7k2gee",
        "outputId": "a74ef2b9-18fc-4c90-da97-f5ab36241532"
      },
      "outputs": [
        {
          "output_type": "stream",
          "name": "stdout",
          "text": [
            "Math Problems:\n",
            "\n",
            "1. 2 - 1 = ____\n",
            "2. 4 + 4 = ____\n",
            "3. 2 + 9 = ____\n",
            "4. 10 + 7 = ____\n",
            "5. 1 + 2 = ____\n",
            "6. 4 + 9 = ____\n",
            "7. 9 - 4 = ____\n",
            "8. 4 - 8 = ____\n",
            "9. 1 - 3 = ____\n",
            "10. 6 + 5 = ____\n",
            "\n",
            "==============================\n",
            "Answer Key:\n",
            "\n",
            "1. 1\n",
            "2. 8\n",
            "3. 11\n",
            "4. 17\n",
            "5. 3\n",
            "6. 13\n",
            "7. 5\n",
            "8. -4\n",
            "9. -2\n",
            "10. 11\n"
          ]
        }
      ],
      "source": [
        "import random\n",
        "\n",
        "random.seed(42)\n",
        "\n",
        "problems = []\n",
        "answers = []\n",
        "\n",
        "for i in range(10):\n",
        "    num1 = random.randint(1, 10)\n",
        "    num2 = random.randint(1, 10)\n",
        "    operation = random.choice(['+', '-'])\n",
        "\n",
        "    if operation == '+':\n",
        "        answer = num1 + num2\n",
        "    else:\n",
        "        answer = num1 - num2\n",
        "\n",
        "    problems.append(f\"{i+1}. {num1} {operation} {num2} = ____\")\n",
        "    answers.append(f\"{i+1}. {answer}\")\n",
        "\n",
        "print(\"Math Problems:\\n\")\n",
        "for problem in problems:\n",
        "    print(problem)\n",
        "\n",
        "print(\"\\n\" + \"=\"*30)\n",
        "print(\"Answer Key:\\n\")\n",
        "for answer in answers:\n",
        "    print(answer)"
      ]
    }
  ]
}